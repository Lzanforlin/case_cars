{
 "cells": [
  {
   "cell_type": "code",
   "execution_count": 10,
   "metadata": {},
   "outputs": [],
   "source": [
    "import pandas as pd\n",
    "import numpy as np\n",
    "from sklearn.preprocessing import LabelEncoder\n"
   ]
  },
  {
   "cell_type": "code",
   "execution_count": 11,
   "metadata": {},
   "outputs": [],
   "source": [
    "df = pd.read_csv(\"/Users/lucas/Documents/Lucas /projetos/cars/data/raw.csv\")"
   ]
  },
  {
   "cell_type": "code",
   "execution_count": 12,
   "metadata": {},
   "outputs": [],
   "source": [
    "#Ajustando nome das colunas com snake_case e renomeando:\n",
    "df.columns = df.columns.str.lower().str.replace(\" \", \"_\")\n",
    "df.rename(columns = {'year' : 'car_year', 'make' : 'manufacturer', 'trim' : 'version', 'vin' : 'chassis_number', 'mmr' : 'valuation', 'sellingprice' : 'selling_price', 'saledate' : 'sale_date'}, inplace = True)"
   ]
  },
  {
   "cell_type": "code",
   "execution_count": 13,
   "metadata": {},
   "outputs": [],
   "source": [
    "def lower_transform(df:pd.DataFrame)->pd.DataFrame:\n",
    "    for coluna in df.columns:\n",
    "        if df[coluna].dtype == 'object':\n",
    "            df[coluna] = df[coluna].str.lower()\n",
    "    return df"
   ]
  },
  {
   "cell_type": "code",
   "execution_count": 14,
   "metadata": {},
   "outputs": [],
   "source": [
    "def clean_df(df:pd.DataFrame)->pd.DataFrame:\n",
    "    df.drop(df[df['transmission'] == 'sedan'].index, axis='index', inplace=True)\n",
    " \n",
    "    df.loc[df['state'].apply(lambda x: len(x) > 3), 'state'] = 'other'\n",
    "    \n",
    "    df['interior'].replace('—', 'other', inplace=True)\n",
    "    \n",
    "    df.sort_values(by=['model', 'version'], inplace=True)\n",
    "    \n",
    "    df['transmission'].fillna(method='ffill', inplace=True)\n",
    "    df['body'].fillna(method='ffill', inplace=True)\n",
    "    \n",
    "    df.dropna(axis=0, inplace=True)\n",
    "    \n",
    "    df['color'] = df['color'].apply(lambda x: x if isinstance(x, str) else 'other')\n",
    "    \n",
    "    df['color'].replace('—', 'other', inplace=True)\n",
    "    \n",
    "    meses_dict = {\n",
    "        'jan': 1, 'feb': 2, 'mar': 3, 'apr': 4,\n",
    "        'may': 5, 'jun': 6, 'jul': 7, 'aug': 8,\n",
    "        'sep': 9, 'oct': 10, 'nov': 11, 'dec': 12\n",
    "    }\n",
    "    df['week_day'] = df['sale_date'].str.slice(0, 3)\n",
    "    df['month'] = df['sale_date'].str.slice(4, 7).map(meses_dict)\n",
    "    df['day'] = df['sale_date'].str.slice(8, 10).astype(int)\n",
    "    df['year'] = df['sale_date'].str.slice(11, 15).astype(int)\n",
    "    \n",
    "    df.drop('sale_date', axis=1, inplace=True)\n",
    "    return df"
   ]
  },
  {
   "cell_type": "code",
   "execution_count": 15,
   "metadata": {},
   "outputs": [],
   "source": [
    "def normalize_data(df:pd.DataFrame)->pd.DataFrame:\n",
    "    \"\"\"\n",
    "    Normaliza os dados em um DataFrame usando a técnica de normalização min-max.\n",
    "    \n",
    "    Parâmetros:\n",
    "        df (DataFrame): DataFrame contendo os dados a serem normalizados.\n",
    "        \n",
    "    Retorna:\n",
    "        DataFrame: DataFrame com os dados normalizados.\n",
    "    \"\"\"\n",
    "  \n",
    "    df_normalized = df.copy()\n",
    "    \n",
    "\n",
    "    for column_name in df.columns:\n",
    "       \n",
    "        if df[column_name].dtype in ['int64', 'float64']:\n",
    "            \n",
    "            min_value = df[column_name].min()\n",
    "            max_value = df[column_name].max()\n",
    "            \n",
    "            \n",
    "            df_normalized[column_name] = (df[column_name] - min_value) / (max_value - min_value)\n",
    "    \n",
    "    return df_normalized\n"
   ]
  },
  {
   "cell_type": "code",
   "execution_count": 16,
   "metadata": {},
   "outputs": [],
   "source": [
    "def label_encode_categoricals(df:pd.DataFrame)->pd.DataFrame:\n",
    "    \"\"\"\n",
    "    Aplica a codificação de rótulos para colunas categóricas em um DataFrame.\n",
    "\n",
    "    Parâmetros:\n",
    "        df: DataFrame\n",
    "            O DataFrame contendo as colunas categóricas a serem codificadas.\n",
    "\n",
    "    Retorna:\n",
    "        df_encoded: DataFrame\n",
    "            O DataFrame com as colunas categóricas codificadas.\n",
    "    \"\"\"\n",
    "    df_encoded = df.copy()\n",
    "    label_encoder = LabelEncoder()\n",
    "    for col in df_encoded.columns:\n",
    "        if df_encoded[col].dtype == 'object':\n",
    "            df_encoded[col] = label_encoder.fit_transform(df_encoded[col])\n",
    "    return df_encoded\n",
    "\n",
    "df_encoded = label_encode_categoricals(df)\n",
    "\n"
   ]
  },
  {
   "cell_type": "code",
   "execution_count": 17,
   "metadata": {},
   "outputs": [],
   "source": [
    "def create_abt(df:pd.DataFrame):\n",
    "    abt = lower_transform(df)\n",
    "    abt = clean_df(df=abt)\n",
    "    abt = normalize_data(df=abt)\n",
    "    abt = label_encode_categoricals(df=abt)\n",
    "    abt.to_csv('../data/abt.csv', index=False)\n"
   ]
  },
  {
   "cell_type": "code",
   "execution_count": 18,
   "metadata": {},
   "outputs": [
    {
     "name": "stderr",
     "output_type": "stream",
     "text": [
      "/var/folders/6x/hyy8ks1j1hd02l9rw3clnpqr0000gn/T/ipykernel_51262/202891055.py:8: FutureWarning: A value is trying to be set on a copy of a DataFrame or Series through chained assignment using an inplace method.\n",
      "The behavior will change in pandas 3.0. This inplace method will never work because the intermediate object on which we are setting values always behaves as a copy.\n",
      "\n",
      "For example, when doing 'df[col].method(value, inplace=True)', try using 'df.method({col: value}, inplace=True)' or df[col] = df[col].method(value) instead, to perform the operation inplace on the original object.\n",
      "\n",
      "\n",
      "  df['interior'].replace('—', 'other', inplace=True)\n",
      "/var/folders/6x/hyy8ks1j1hd02l9rw3clnpqr0000gn/T/ipykernel_51262/202891055.py:14: FutureWarning: A value is trying to be set on a copy of a DataFrame or Series through chained assignment using an inplace method.\n",
      "The behavior will change in pandas 3.0. This inplace method will never work because the intermediate object on which we are setting values always behaves as a copy.\n",
      "\n",
      "For example, when doing 'df[col].method(value, inplace=True)', try using 'df.method({col: value}, inplace=True)' or df[col] = df[col].method(value) instead, to perform the operation inplace on the original object.\n",
      "\n",
      "\n",
      "  df['transmission'].fillna(method='ffill', inplace=True)\n",
      "/var/folders/6x/hyy8ks1j1hd02l9rw3clnpqr0000gn/T/ipykernel_51262/202891055.py:14: FutureWarning: Series.fillna with 'method' is deprecated and will raise in a future version. Use obj.ffill() or obj.bfill() instead.\n",
      "  df['transmission'].fillna(method='ffill', inplace=True)\n",
      "/var/folders/6x/hyy8ks1j1hd02l9rw3clnpqr0000gn/T/ipykernel_51262/202891055.py:15: FutureWarning: A value is trying to be set on a copy of a DataFrame or Series through chained assignment using an inplace method.\n",
      "The behavior will change in pandas 3.0. This inplace method will never work because the intermediate object on which we are setting values always behaves as a copy.\n",
      "\n",
      "For example, when doing 'df[col].method(value, inplace=True)', try using 'df.method({col: value}, inplace=True)' or df[col] = df[col].method(value) instead, to perform the operation inplace on the original object.\n",
      "\n",
      "\n",
      "  df['body'].fillna(method='ffill', inplace=True)\n",
      "/var/folders/6x/hyy8ks1j1hd02l9rw3clnpqr0000gn/T/ipykernel_51262/202891055.py:15: FutureWarning: Series.fillna with 'method' is deprecated and will raise in a future version. Use obj.ffill() or obj.bfill() instead.\n",
      "  df['body'].fillna(method='ffill', inplace=True)\n",
      "/var/folders/6x/hyy8ks1j1hd02l9rw3clnpqr0000gn/T/ipykernel_51262/202891055.py:24: FutureWarning: A value is trying to be set on a copy of a DataFrame or Series through chained assignment using an inplace method.\n",
      "The behavior will change in pandas 3.0. This inplace method will never work because the intermediate object on which we are setting values always behaves as a copy.\n",
      "\n",
      "For example, when doing 'df[col].method(value, inplace=True)', try using 'df.method({col: value}, inplace=True)' or df[col] = df[col].method(value) instead, to perform the operation inplace on the original object.\n",
      "\n",
      "\n",
      "  df['color'].replace('—', 'other', inplace=True)\n"
     ]
    }
   ],
   "source": [
    "create_abt(df=df)"
   ]
  }
 ],
 "metadata": {
  "kernelspec": {
   "display_name": "cars-B_UJTmex-py3.12",
   "language": "python",
   "name": "python3"
  },
  "language_info": {
   "codemirror_mode": {
    "name": "ipython",
    "version": 3
   },
   "file_extension": ".py",
   "mimetype": "text/x-python",
   "name": "python",
   "nbconvert_exporter": "python",
   "pygments_lexer": "ipython3",
   "version": "3.12.2"
  }
 },
 "nbformat": 4,
 "nbformat_minor": 2
}
