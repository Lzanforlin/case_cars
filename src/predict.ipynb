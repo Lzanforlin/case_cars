{
 "cells": [
  {
   "cell_type": "code",
   "execution_count": 4,
   "metadata": {},
   "outputs": [],
   "source": [
    "import pickle"
   ]
  },
  {
   "cell_type": "code",
   "execution_count": null,
   "metadata": {},
   "outputs": [],
   "source": [
    "\n",
    "model_file = 'modelo_rf.pkl'\n",
    "try:\n",
    "    with open(model_file, 'rb') as f:\n",
    "        model_rf = pickle.load(f)\n",
    "    print(f\"O modelo foi carregado com sucesso de {model_file}.\")\n",
    "except Exception as e:\n",
    "    print(f\"Erro ao carregar o modelo: {e}\")\n",
    "\n",
    "y_pred_new = model_rf.predict(X_new)\n",
    "\n",
    "print(y_pred_new)\n"
   ]
  }
 ],
 "metadata": {
  "kernelspec": {
   "display_name": "cars-B_UJTmex-py3.12",
   "language": "python",
   "name": "python3"
  },
  "language_info": {
   "codemirror_mode": {
    "name": "ipython",
    "version": 3
   },
   "file_extension": ".py",
   "mimetype": "text/x-python",
   "name": "python",
   "nbconvert_exporter": "python",
   "pygments_lexer": "ipython3",
   "version": "3.12.2"
  }
 },
 "nbformat": 4,
 "nbformat_minor": 2
}
