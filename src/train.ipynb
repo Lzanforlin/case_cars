{
 "cells": [
  {
   "cell_type": "code",
   "execution_count": 2,
   "metadata": {},
   "outputs": [],
   "source": [
    "import pandas as pd\n",
    "import numpy as np\n",
    "from sklearn.model_selection import train_test_split\n",
    "from sklearn.ensemble import RandomForestRegressor\n",
    "from sklearn.metrics import mean_squared_error, mean_absolute_error, r2_score\n",
    "from sklearn.tree import export_graphviz\n",
    "import pickle\n"
   ]
  },
  {
   "cell_type": "code",
   "execution_count": 3,
   "metadata": {},
   "outputs": [],
   "source": [
    "df = pd.read_csv(\"/Users/lucas/Documents/Lucas /projetos/cars/data/abt.csv\")"
   ]
  },
  {
   "cell_type": "code",
   "execution_count": 4,
   "metadata": {},
   "outputs": [],
   "source": [
    "X = df.drop(['valuation', 'selling_price', 'day', 'state', 'month', 'color','interior', 'week_day','transmission','year'], axis=1)\n",
    "y = df['valuation']"
   ]
  },
  {
   "cell_type": "code",
   "execution_count": 6,
   "metadata": {},
   "outputs": [
    {
     "name": "stdout",
     "output_type": "stream",
     "text": [
      "Mean Squared Error (MSE): 4.3624106287045227e-05\n",
      "Root Mean Squared Error (RMSE): 0.006604854751396523\n",
      "Mean Absolute Error (MAE): 0.003314782861927842\n",
      "R-squared (R²): 0.9840229801850969\n",
      "O modelo foi salvo com sucesso em modelo_rf.pkl.\n",
      "          Feature  Importance\n",
      "7        odometer    0.340398\n",
      "5  chassis_number    0.194413\n",
      "4            body    0.139125\n",
      "0        car_year    0.120288\n",
      "2           model    0.091146\n",
      "1    manufacturer    0.054333\n",
      "3         version    0.054137\n",
      "8          seller    0.003659\n",
      "6       condition    0.002500\n"
     ]
    }
   ],
   "source": [
    "import pickle\n",
    "\n",
    "def evaluate_model(X, y):\n",
    "    X_train, X_test, y_train, y_test = train_test_split(X, y, test_size=0.2, random_state=42)\n",
    "\n",
    "    model_rf = RandomForestRegressor(n_estimators=100, random_state=42)\n",
    "\n",
    "    model_rf.fit(X_train, y_train)\n",
    "\n",
    "    y_pred = model_rf.predict(X_test)\n",
    "\n",
    "    mse = mean_squared_error(y_test, y_pred)\n",
    "    rmse = np.sqrt(mse)\n",
    "    mae = mean_absolute_error(y_test, y_pred)\n",
    "    r2 = r2_score(y_test, y_pred)\n",
    "\n",
    "    print(\"Mean Squared Error (MSE):\", mse)\n",
    "    print(\"Root Mean Squared Error (RMSE):\", rmse)\n",
    "    print(\"Mean Absolute Error (MAE):\", mae)\n",
    "    print(\"R-squared (R²):\", r2)\n",
    "\n",
    "    model_file = 'modelo_rf.pkl'\n",
    "    try:\n",
    "        with open(model_file, 'wb') as f:\n",
    "            pickle.dump(model_rf, f)\n",
    "        print(f\"O modelo foi salvo com sucesso em {model_file}.\")\n",
    "    except Exception as e:\n",
    "        print(f\"Erro ao salvar o modelo: {e}\")\n",
    "\n",
    "    tree = model_rf.estimators_[0]\n",
    "    export_graphviz(tree, out_file='tree.dot', feature_names=X.columns, rounded=True, filled=True)\n",
    "\n",
    "    importances = model_rf.feature_importances_\n",
    "\n",
    "    feature_importance_df = pd.DataFrame({\n",
    "        'Feature': X_train.columns,\n",
    "        'Importance': importances\n",
    "    })\n",
    "\n",
    "    feature_importance_df = feature_importance_df.sort_values(by='Importance', ascending=False)\n",
    "\n",
    "    print(feature_importance_df)\n",
    "\n",
    "    return mse, rmse, mae, r2\n",
    "\n",
    "mse, rmse, mae, r2 = evaluate_model(X, y)\n"
   ]
  }
 ],
 "metadata": {
  "kernelspec": {
   "display_name": "cars-B_UJTmex-py3.12",
   "language": "python",
   "name": "python3"
  },
  "language_info": {
   "codemirror_mode": {
    "name": "ipython",
    "version": 3
   },
   "file_extension": ".py",
   "mimetype": "text/x-python",
   "name": "python",
   "nbconvert_exporter": "python",
   "pygments_lexer": "ipython3",
   "version": "3.12.2"
  }
 },
 "nbformat": 4,
 "nbformat_minor": 2
}
